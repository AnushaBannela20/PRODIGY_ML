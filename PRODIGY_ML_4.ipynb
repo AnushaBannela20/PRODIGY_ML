{
  "nbformat": 4,
  "nbformat_minor": 0,
  "metadata": {
    "colab": {
      "provenance": []
    },
    "kernelspec": {
      "name": "python3",
      "display_name": "Python 3"
    },
    "language_info": {
      "name": "python"
    }
  },
  "cells": [
    {
      "cell_type": "code",
      "execution_count": 9,
      "metadata": {
        "colab": {
          "base_uri": "https://localhost:8080/"
        },
        "id": "TL2OjnBuw_oc",
        "outputId": "dd47342a-e39e-4acb-b7fd-f154b028fb3c"
      },
      "outputs": [
        {
          "output_type": "stream",
          "name": "stdout",
          "text": [
            "Train shape: (1722, 784) Test shape: (1033, 784)\n",
            "[LibSVM]Validation Accuracy: 0.881159420289855\n",
            "Test Accuracy: 0.712487899322362\n",
            "              precision    recall  f1-score   support\n",
            "\n",
            "           0       0.66      1.00      0.79        46\n",
            "           1       1.00      0.91      0.95        64\n",
            "           2       0.82      1.00      0.90        40\n",
            "           3       0.68      0.91      0.78        35\n",
            "           4       0.88      0.90      0.89        73\n",
            "           5       0.70      0.57      0.63        40\n",
            "           6       0.88      0.86      0.87        57\n",
            "           7       0.98      0.84      0.91        64\n",
            "           8       0.72      0.77      0.74        43\n",
            "          10       0.52      0.54      0.53        48\n",
            "          11       0.68      0.76      0.72        25\n",
            "          12       0.91      0.33      0.48        64\n",
            "          13       0.56      0.47      0.51        32\n",
            "          14       0.71      0.75      0.73        36\n",
            "          15       0.91      1.00      0.95        59\n",
            "          16       0.62      0.83      0.71        18\n",
            "          17       0.18      0.33      0.24        18\n",
            "          18       0.32      0.63      0.43        30\n",
            "          19       0.61      0.59      0.60        39\n",
            "          20       0.41      0.44      0.42        32\n",
            "          21       0.96      0.41      0.58        58\n",
            "          22       0.51      0.74      0.61        27\n",
            "          23       0.74      0.70      0.72        37\n",
            "          24       0.81      0.44      0.57        48\n",
            "\n",
            "    accuracy                           0.71      1033\n",
            "   macro avg       0.70      0.70      0.68      1033\n",
            "weighted avg       0.76      0.71      0.71      1033\n",
            "\n"
          ]
        }
      ],
      "source": [
        "# --- Task 4: Hand Gesture Recognition (Sign Language MNIST) ---\n",
        "import pandas as pd\n",
        "import numpy as np\n",
        "from sklearn.model_selection import train_test_split\n",
        "from sklearn.svm import SVC\n",
        "from sklearn.metrics import accuracy_score, classification_report\n",
        "\n",
        "# --- Step 1: Load dataset ---\n",
        "train_df = pd.read_csv(\"sign_mnist_train.csv\", on_bad_lines='skip', low_memory=False)\n",
        "test_df = pd.read_csv(\"sign_mnist_test.csv\", on_bad_lines='skip', low_memory=False)\n",
        "\n",
        "# Drop rows with any NaN values\n",
        "train_df.dropna(inplace=True)\n",
        "test_df.dropna(inplace=True)\n",
        "\n",
        "# Features and labels\n",
        "X = train_df.drop(\"label\", axis=1).values\n",
        "y = train_df[\"label\"].values\n",
        "\n",
        "X_test_final = test_df.drop(\"label\", axis=1).values\n",
        "y_test_final = test_df[\"label\"].values\n",
        "\n",
        "print(\"Train shape:\", X.shape, \"Test shape:\", X_test_final.shape)\n",
        "\n",
        "# --- Step 2: Normalize data ---\n",
        "X = X / 255.0\n",
        "X_test_final = X_test_final / 255.0\n",
        "\n",
        "# --- Step 3: Split training data (for validation) ---\n",
        "X_train, X_val, y_train, y_val = train_test_split(X, y, test_size=0.2, random_state=42)\n",
        "\n",
        "# --- Step 4: Train SVM ---\n",
        "svm = SVC(kernel='linear', verbose=1)\n",
        "svm.fit(X_train, y_train)\n",
        "\n",
        "# --- Step 5: Evaluate ---\n",
        "y_val_pred = svm.predict(X_val)\n",
        "print(\"Validation Accuracy:\", accuracy_score(y_val, y_val_pred))\n",
        "\n",
        "y_test_pred = svm.predict(X_test_final)\n",
        "print(\"Test Accuracy:\", accuracy_score(y_test_final, y_test_pred))\n",
        "print(classification_report(y_test_final, y_test_pred))"
      ]
    }
  ]
}