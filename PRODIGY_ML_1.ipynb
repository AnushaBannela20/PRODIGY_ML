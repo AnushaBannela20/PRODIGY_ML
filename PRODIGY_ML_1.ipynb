{
  "nbformat": 4,
  "nbformat_minor": 0,
  "metadata": {
    "colab": {
      "provenance": []
    },
    "kernelspec": {
      "name": "python3",
      "display_name": "Python 3"
    },
    "language_info": {
      "name": "python"
    }
  },
  "cells": [
    {
      "cell_type": "code",
      "execution_count": 3,
      "metadata": {
        "colab": {
          "base_uri": "https://localhost:8080/"
        },
        "id": "DPp5s4ayoYrQ",
        "outputId": "5fd73fe6-aeeb-4327-86f4-8719bf413686"
      },
      "outputs": [
        {
          "output_type": "stream",
          "name": "stdout",
          "text": [
            "R^2: 0.6579346254018674\n",
            "MAE: 34395.802888482795\n",
            "Predicted price for example: 232016.59114361883\n"
          ]
        }
      ],
      "source": [
        "# --- House Prices: Linear Regression on sqft, beds, baths ---\n",
        "import pandas as pd\n",
        "from sklearn.model_selection import train_test_split\n",
        "from sklearn.linear_model import LinearRegression\n",
        "from sklearn.metrics import r2_score, mean_absolute_error\n",
        "\n",
        "# 1) Load\n",
        "df = pd.read_csv(\"train.csv\")\n",
        "\n",
        "# 2) Map fields to your requested features\n",
        "# square footage ≈ GrLivArea (above-ground living area)\n",
        "# bedrooms       = BedroomAbvGr\n",
        "# bathrooms      = FullBath + 0.5*HalfBath + BsmtFullBath + 0.5*BsmtHalfBath\n",
        "df[\"BathroomsTotal\"] = (df[\"FullBath\"].fillna(0) + 0.5*df[\"HalfBath\"].fillna(0)\n",
        "                        + df[\"BsmtFullBath\"].fillna(0) + 0.5*df[\"BsmtHalfBath\"].fillna(0))\n",
        "\n",
        "feat_cols = [\"GrLivArea\", \"BedroomAbvGr\", \"BathroomsTotal\"]\n",
        "X = df[feat_cols]\n",
        "y = df[\"SalePrice\"]\n",
        "\n",
        "# 3) Split\n",
        "X_train, X_test, y_train, y_test = train_test_split(X, y, test_size=0.2, random_state=42)\n",
        "\n",
        "# 4) Train\n",
        "model = LinearRegression()\n",
        "model.fit(X_train, y_train)\n",
        "\n",
        "# 5) Evaluate\n",
        "pred = model.predict(X_test)\n",
        "print(\"R^2:\", r2_score(y_test, pred))\n",
        "print(\"MAE:\", mean_absolute_error(y_test, pred))\n",
        "\n",
        "# 6) Example inference\n",
        "example = pd.DataFrame({\"GrLivArea\":[2000], \"BedroomAbvGr\":[3], \"BathroomsTotal\":[2.5]})\n",
        "print(\"Predicted price for example:\", model.predict(example)[0])\n"
      ]
    }
  ]
}