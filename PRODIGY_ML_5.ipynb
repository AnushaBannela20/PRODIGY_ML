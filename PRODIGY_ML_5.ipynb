{
  "nbformat": 4,
  "nbformat_minor": 0,
  "metadata": {
    "colab": {
      "provenance": []
    },
    "kernelspec": {
      "name": "python3",
      "display_name": "Python 3"
    },
    "language_info": {
      "name": "python"
    }
  },
  "cells": [
    {
      "cell_type": "code",
      "execution_count": 4,
      "metadata": {
        "colab": {
          "base_uri": "https://localhost:8080/"
        },
        "id": "6MwouXtTxCn4",
        "outputId": "fc26278f-b5da-4f51-bf55-de10f62aa61a"
      },
      "outputs": [
        {
          "output_type": "stream",
          "name": "stdout",
          "text": [
            "Dataset shape: (7413, 48)\n",
            "     Category               Description  Nutrient Data Bank Number  \\\n",
            "0      BUTTER          BUTTER,WITH SALT                       1001   \n",
            "1      BUTTER  BUTTER,WHIPPED,WITH SALT                       1002   \n",
            "2  BUTTER OIL      BUTTER OIL,ANHYDROUS                       1003   \n",
            "3      CHEESE               CHEESE,BLUE                       1004   \n",
            "4      CHEESE              CHEESE,BRICK                       1005   \n",
            "\n",
            "   Data.Alpha Carotene  Data.Ash  Data.Beta Carotene  Data.Beta Cryptoxanthin  \\\n",
            "0                    0      2.11                 158                        0   \n",
            "1                    0      2.11                 158                        0   \n",
            "2                    0      0.00                 193                        0   \n",
            "3                    0      5.11                  74                        0   \n",
            "4                    0      3.18                  76                        0   \n",
            "\n",
            "   Data.Carbohydrate  Data.Cholesterol  Data.Choline  ...  \\\n",
            "0               0.06               215            19  ...   \n",
            "1               0.06               219            19  ...   \n",
            "2               0.00               256            22  ...   \n",
            "3               2.34                75            15  ...   \n",
            "4               2.79                94            15  ...   \n",
            "\n",
            "   Data.Major Minerals.Potassium  Data.Major Minerals.Sodium  \\\n",
            "0                             24                         576   \n",
            "1                             26                         827   \n",
            "2                              5                           2   \n",
            "3                            256                        1395   \n",
            "4                            136                         560   \n",
            "\n",
            "   Data.Major Minerals.Zinc  Data.Vitamins.Vitamin A - IU  \\\n",
            "0                      0.09                          2499   \n",
            "1                      0.05                          2499   \n",
            "2                      0.01                          3069   \n",
            "3                      2.66                           763   \n",
            "4                      2.60                          1080   \n",
            "\n",
            "   Data.Vitamins.Vitamin A - RAE  Data.Vitamins.Vitamin B12  \\\n",
            "0                            684                       0.17   \n",
            "1                            684                       0.13   \n",
            "2                            840                       0.01   \n",
            "3                            198                       1.22   \n",
            "4                            292                       1.26   \n",
            "\n",
            "   Data.Vitamins.Vitamin B6  Data.Vitamins.Vitamin C  Data.Vitamins.Vitamin E  \\\n",
            "0                     0.003                      0.0                     2.32   \n",
            "1                     0.003                      0.0                     2.32   \n",
            "2                     0.001                      0.0                     2.80   \n",
            "3                     0.166                      0.0                     0.25   \n",
            "4                     0.065                      0.0                     0.26   \n",
            "\n",
            "   Data.Vitamins.Vitamin K  \n",
            "0                      7.0  \n",
            "1                      7.0  \n",
            "2                      8.6  \n",
            "3                      2.4  \n",
            "4                      2.5  \n",
            "\n",
            "[5 rows x 48 columns]\n",
            "Mean Squared Error: 353.90614216874945\n",
            "R² Score: 0.9872326403453169\n",
            "Predicted Calories: 187.6949384540363\n"
          ]
        },
        {
          "output_type": "stream",
          "name": "stderr",
          "text": [
            "/usr/local/lib/python3.12/dist-packages/sklearn/utils/validation.py:2739: UserWarning: X does not have valid feature names, but LinearRegression was fitted with feature names\n",
            "  warnings.warn(\n"
          ]
        }
      ],
      "source": [
        "# --- Task 5: Food Calorie Prediction ---\n",
        "import pandas as pd\n",
        "from sklearn.model_selection import train_test_split\n",
        "from sklearn.linear_model import LinearRegression\n",
        "from sklearn.metrics import mean_squared_error, r2_score\n",
        "\n",
        "# --- Step 1: Load dataset ---\n",
        "df = pd.read_csv(\"food.csv\")  # upload dataset\n",
        "\n",
        "print(\"Dataset shape:\", df.shape)\n",
        "print(df.head())\n",
        "\n",
        "# --- Step 2: Select features (nutrients) and target (calories) ---\n",
        "X = df[[\"Data.Fat.Total Lipid\", \"Data.Carbohydrate\", \"Data.Protein\"]]   # input features\n",
        "y = df[\"Data.Kilocalories\"]                             # target\n",
        "\n",
        "# --- Step 3: Train/test split ---\n",
        "X_train, X_test, y_train, y_test = train_test_split(X, y, test_size=0.2, random_state=42)\n",
        "\n",
        "# --- Step 4: Train Linear Regression model ---\n",
        "model = LinearRegression()\n",
        "model.fit(X_train, y_train)\n",
        "\n",
        "# --- Step 5: Predictions ---\n",
        "y_pred = model.predict(X_test)\n",
        "\n",
        "# --- Step 6: Evaluation ---\n",
        "print(\"Mean Squared Error:\", mean_squared_error(y_test, y_pred))\n",
        "print(\"R² Score:\", r2_score(y_test, y_pred))\n",
        "\n",
        "# --- Step 7: Example Prediction ---\n",
        "example = [[10, 20, 5]]  # Fat=10g, Carbs=20g, Protein=5g\n",
        "print(\"Predicted Calories:\", model.predict(example)[0])"
      ]
    },
    {
      "cell_type": "code",
      "metadata": {
        "colab": {
          "base_uri": "https://localhost:8080/"
        },
        "id": "d51ff783",
        "outputId": "301b9e37-c3df-4d36-87ec-4f8ca587cda4"
      },
      "source": [
        "print(df.columns)"
      ],
      "execution_count": 3,
      "outputs": [
        {
          "output_type": "stream",
          "name": "stdout",
          "text": [
            "Index(['Category', 'Description', 'Nutrient Data Bank Number',\n",
            "       'Data.Alpha Carotene', 'Data.Ash', 'Data.Beta Carotene',\n",
            "       'Data.Beta Cryptoxanthin', 'Data.Carbohydrate', 'Data.Cholesterol',\n",
            "       'Data.Choline', 'Data.Fiber', 'Data.Kilocalories',\n",
            "       'Data.Lutein and Zeaxanthin', 'Data.Lycopene', 'Data.Manganese',\n",
            "       'Data.Niacin', 'Data.Pantothenic Acid', 'Data.Protein',\n",
            "       'Data.Refuse Percentage', 'Data.Retinol', 'Data.Riboflavin',\n",
            "       'Data.Selenium', 'Data.Sugar Total', 'Data.Thiamin', 'Data.Water',\n",
            "       'Data.Fat.Monosaturated Fat', 'Data.Fat.Polysaturated Fat',\n",
            "       'Data.Fat.Saturated Fat', 'Data.Fat.Total Lipid',\n",
            "       'Data.Household Weights.1st Household Weight',\n",
            "       'Data.Household Weights.1st Household Weight Description',\n",
            "       'Data.Household Weights.2nd Household Weight',\n",
            "       'Data.Household Weights.2nd Household Weight Description',\n",
            "       'Data.Major Minerals.Calcium', 'Data.Major Minerals.Copper',\n",
            "       'Data.Major Minerals.Iron', 'Data.Major Minerals.Magnesium',\n",
            "       'Data.Major Minerals.Phosphorus', 'Data.Major Minerals.Potassium',\n",
            "       'Data.Major Minerals.Sodium', 'Data.Major Minerals.Zinc',\n",
            "       'Data.Vitamins.Vitamin A - IU', 'Data.Vitamins.Vitamin A - RAE',\n",
            "       'Data.Vitamins.Vitamin B12', 'Data.Vitamins.Vitamin B6',\n",
            "       'Data.Vitamins.Vitamin C', 'Data.Vitamins.Vitamin E',\n",
            "       'Data.Vitamins.Vitamin K'],\n",
            "      dtype='object')\n"
          ]
        }
      ]
    }
  ]
}