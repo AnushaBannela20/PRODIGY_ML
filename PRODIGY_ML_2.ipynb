{
  "nbformat": 4,
  "nbformat_minor": 0,
  "metadata": {
    "colab": {
      "provenance": []
    },
    "kernelspec": {
      "name": "python3",
      "display_name": "Python 3"
    },
    "language_info": {
      "name": "python"
    }
  },
  "cells": [
    {
      "cell_type": "code",
      "execution_count": 2,
      "metadata": {
        "colab": {
          "base_uri": "https://localhost:8080/"
        },
        "id": "OKOe08FOwhGF",
        "outputId": "ec7d5340-5e38-40fd-96fc-440f8061fd48"
      },
      "outputs": [
        {
          "output_type": "stream",
          "name": "stdout",
          "text": [
            "   CustomerID  Gender  Age  Annual Income (k$)  Spending Score (1-100)  \\\n",
            "0           1    Male   19                  15                      39   \n",
            "1           2    Male   21                  15                      81   \n",
            "2           3  Female   20                  16                       6   \n",
            "3           4  Female   23                  16                      77   \n",
            "4           5  Female   31                  17                      40   \n",
            "\n",
            "   Cluster  \n",
            "0        4  \n",
            "1        2  \n",
            "2        4  \n",
            "3        2  \n",
            "4        4  \n",
            "\n",
            "Cluster sizes:\n",
            " Cluster\n",
            "0    81\n",
            "1    39\n",
            "3    35\n",
            "4    23\n",
            "2    22\n",
            "Name: count, dtype: int64\n"
          ]
        }
      ],
      "source": [
        "# --- K-Means clustering on Mall_Customers ---\n",
        "import pandas as pd\n",
        "from sklearn.preprocessing import StandardScaler\n",
        "from sklearn.cluster import KMeans\n",
        "\n",
        "# 1) Load\n",
        "df = pd.read_csv(\"Mall_Customers.csv\")\n",
        "\n",
        "# 2) Choose \"purchase behavior\" proxies (customize if you have richer purchase history)\n",
        "X = df[[\"Annual Income (k$)\", \"Spending Score (1-100)\"]].copy()\n",
        "\n",
        "# 3) Scale\n",
        "X_scaled = StandardScaler().fit_transform(X)\n",
        "\n",
        "# 4) Fit K-Means (k=5 as a starting point; elbow can tune)\n",
        "kmeans = KMeans(n_clusters=5, n_init=10, random_state=42)\n",
        "labels = kmeans.fit_predict(X_scaled)\n",
        "\n",
        "# 5) Attach results\n",
        "df[\"Cluster\"] = labels\n",
        "print(df.head())\n",
        "print(\"\\nCluster sizes:\\n\", df[\"Cluster\"].value_counts())\n"
      ]
    },
    {
      "cell_type": "code",
      "source": [],
      "metadata": {
        "id": "MVhtpPlswqJR"
      },
      "execution_count": null,
      "outputs": []
    }
  ]
}